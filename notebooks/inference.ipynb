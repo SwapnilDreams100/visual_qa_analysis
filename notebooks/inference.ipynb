{
 "cells": [
  {
   "cell_type": "code",
   "execution_count": 12,
   "metadata": {},
   "outputs": [],
   "source": [
    "from __future__ import absolute_import\n",
    "from __future__ import division\n",
    "from __future__ import print_function"
   ]
  },
  {
   "cell_type": "code",
   "execution_count": 2,
   "metadata": {},
   "outputs": [],
   "source": [
    "import sys\n",
    "import os.path\n",
    "sys.path.append('/scratch/pramodkm/vqa/vqa_kazemi2017show/')\n",
    "import math\n",
    "import json\n",
    "\n",
    "import torch\n",
    "import torch.nn as nn\n",
    "import torch.optim as optim\n",
    "from torch.autograd import Variable\n",
    "import torch.backends.cudnn as cudnn\n",
    "from tqdm import tqdm\n",
    "\n",
    "import config\n",
    "import data\n",
    "import model\n",
    "import utils"
   ]
  },
  {
   "cell_type": "code",
   "execution_count": 3,
   "metadata": {},
   "outputs": [],
   "source": [
    "# Load pretrained model\n",
    "log = torch.load('/scratch/pramodkm/vqa/vqa_kazemi2017show/logs/2017-08-04_00.55.19.pth')\n",
    "tokens = len(log['vocab']['question']) + 1\n",
    "\n",
    "net = torch.nn.DataParallel(model.Net(tokens))\n",
    "net.load_state_dict(log['weights'])"
   ]
  },
  {
   "cell_type": "code",
   "execution_count": 4,
   "metadata": {},
   "outputs": [
    {
     "name": "stderr",
     "output_type": "stream",
     "text": [
      "\r",
      "val E000:   0% 0/950 [00:00<?, ?it/s]"
     ]
    }
   ],
   "source": [
    "# Load validation data\n",
    "val_loader = data.get_loader(val=True)\n",
    "LOADER=val_loader\n",
    "PREFIX=\"val\""
   ]
  },
  {
   "cell_type": "code",
   "execution_count": 13,
   "metadata": {},
   "outputs": [
    {
     "name": "stderr",
     "output_type": "stream",
     "text": [
      "\n",
      "val E000:   0% 0/950 [00:00<?, ?it/s]\u001b[A\n",
      "/scratch/pramodkm/vqa/vqa_kazemi2017show/model.py:135: UserWarning: Implicit dimension choice for softmax has been deprecated. Change the call to include dim=X as an argument.\n",
      "  attention = F.softmax(attention)\n",
      "/scratch/pramodkm/tensorflow_gpu_python3/lib/python3.5/site-packages/ipykernel_launcher.py:20: UserWarning: Implicit dimension choice for log_softmax has been deprecated. Change the call to include dim=X as an argument.\n",
      "val E000:   1% 9/950 [00:02<03:42,  4.23it/s]"
     ]
    }
   ],
   "source": [
    "# Iterate over batches (batch_size = 128) and compute accuracy\n",
    "tq = tqdm(LOADER, desc='{} E{:03d}'.format(PREFIX, 0), ncols=0)\n",
    "net.eval()\n",
    "answ = []\n",
    "idxs = []\n",
    "accs = []\n",
    "log_softmax = nn.LogSoftmax().cuda()\n",
    "num_batches = 0\n",
    "for v, q, a, idx, q_len in tq:\n",
    "        var_params = {\n",
    "            'volatile': True,\n",
    "            'requires_grad': False,\n",
    "        }\n",
    "        v = Variable(v.cuda(async=True), **var_params)\n",
    "        q = Variable(q.cuda(async=True), **var_params)\n",
    "        a = Variable(a.cuda(async=True), **var_params)\n",
    "        q_len = Variable(q_len.cuda(async=True), **var_params)\n",
    "\n",
    "        out = net(v, q, q_len)\n",
    "        nll = -log_softmax(out)\n",
    "        loss = (nll * a / 10).sum(dim=1).mean()\n",
    "        acc = utils.batch_accuracy(out.data, a.data).cpu()\n",
    "        \n",
    "        _, answer = out.data.cpu().max(dim=1)\n",
    "        answ.append(answer.view(-1))\n",
    "        accs.append(acc.view(-1))\n",
    "        idxs.append(idx.view(-1).clone())\n",
    "        #print(acc.mean())\n",
    "        num_batches += 1\n",
    "        if num_batches == 10:\n",
    "            break\n",
    "\n",
    "answ = list(torch.cat(answ, dim=0))\n",
    "accs = list(torch.cat(accs, dim=0))\n",
    "idxs = list(torch.cat(idxs, dim=0))"
   ]
  },
  {
   "cell_type": "code",
   "execution_count": 14,
   "metadata": {},
   "outputs": [],
   "source": [
    "with open(config.vocabulary_path, 'r') as fd:\n",
    "    vocab_json = json.load(fd)"
   ]
  },
  {
   "cell_type": "code",
   "execution_count": null,
   "metadata": {},
   "outputs": [],
   "source": []
  }
 ],
 "metadata": {
  "kernelspec": {
   "display_name": "Python 3",
   "language": "python",
   "name": "python3"
  },
  "language_info": {
   "codemirror_mode": {
    "name": "ipython",
    "version": 3
   },
   "file_extension": ".py",
   "mimetype": "text/x-python",
   "name": "python",
   "nbconvert_exporter": "python",
   "pygments_lexer": "ipython3",
   "version": "3.5.2"
  }
 },
 "nbformat": 4,
 "nbformat_minor": 2
}
